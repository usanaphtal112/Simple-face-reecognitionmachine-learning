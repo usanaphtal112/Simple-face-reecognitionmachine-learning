{
 "cells": [
  {
   "cell_type": "code",
   "execution_count": 3,
   "metadata": {
    "id": "Rtv73e5kRZfX"
   },
   "outputs": [],
   "source": [
    "# !pip install tensorflow"
   ]
  },
  {
   "cell_type": "markdown",
   "metadata": {
    "id": "xNej3u-3V0xt"
   },
   "source": [
    "# **Import necessary libraries**"
   ]
  },
  {
   "cell_type": "code",
   "execution_count": 4,
   "metadata": {
    "id": "xaSNyKoBeEm6"
   },
   "outputs": [],
   "source": [
    "import os\n",
    "import numpy as np\n",
    "import pandas as pd\n",
    "import tensorflow as tf\n",
    "from tensorflow import keras\n",
    "from tensorflow.keras import layers\n",
    "from tensorflow.keras.callbacks import Callback\n",
    "from tensorflow.keras.utils import plot_model\n",
    "import matplotlib.pyplot as plt\n",
    "from sklearn.model_selection import train_test_split"
   ]
  },
  {
   "cell_type": "markdown",
   "metadata": {
    "id": "bsJrKfLPjDq3"
   },
   "source": [
    "## **Load Datasets**"
   ]
  },
  {
   "cell_type": "code",
   "execution_count": 5,
   "metadata": {
    "id": "3DBdzF8QeF6M"
   },
   "outputs": [],
   "source": [
    "# Load triplets data from a CSV file (replace 'triplets.csv' with your file)\n",
    "triplets_df = pd.read_csv(r\"D:/Datasets/Image_data/CelebA FR Triplets/triplets.csv\")\n",
    "image_path = r\"D:/Datasets/Image_data/CelebA FR Triplets/images/\""
   ]
  },
  {
   "cell_type": "markdown",
   "metadata": {
    "id": "6hOIIQqtjIVG"
   },
   "source": [
    "# **Load and Preprocess dataset**"
   ]
  },
  {
   "cell_type": "code",
   "execution_count": 6,
   "metadata": {
    "id": "geIGiFH6eF9t"
   },
   "outputs": [],
   "source": [
    "# Define a function to load and preprocess images\n",
    "def load_and_preprocess_image(image_path):\n",
    "    img = tf.io.read_file(image_path)\n",
    "    img = tf.image.decode_image(img, channels=3)\n",
    "    img = tf.image.resize(img, (118, 118))\n",
    "    img = tf.cast(img, tf.float32) / 255.0\n",
    "    return img"
   ]
  },
  {
   "cell_type": "markdown",
   "metadata": {
    "id": "M9cMB4oqjQLM"
   },
   "source": [
    "# **Split train and test data portion**"
   ]
  },
  {
   "cell_type": "code",
   "execution_count": 7,
   "metadata": {
    "id": "tcMOjBC5eGCI"
   },
   "outputs": [],
   "source": [
    "# Split the data into train, validation, and test sets\n",
    "train_df, test_df = train_test_split(triplets_df, test_size=0.2, random_state=42)\n",
    "val_df, test_df = train_test_split(test_df, test_size=0.5, random_state=42)"
   ]
  },
  {
   "cell_type": "markdown",
   "metadata": {
    "id": "gvMEEe7ljco3"
   },
   "source": [
    "# **Create Data Generator**"
   ]
  },
  {
   "cell_type": "code",
   "execution_count": 8,
   "metadata": {
    "id": "NADcU_JReGFR"
   },
   "outputs": [],
   "source": [
    "# Define a custom data generator\n",
    "class TripletDataGenerator(tf.keras.utils.Sequence):\n",
    "    def __init__(self, df, image_directory, batch_size=32, shuffle=True):\n",
    "        self.df = df\n",
    "        self.image_directory = image_directory\n",
    "        self.batch_size = batch_size\n",
    "        self.shuffle = shuffle\n",
    "        self.indexes = np.arange(len(self.df))\n",
    "        if self.shuffle:\n",
    "            np.random.shuffle(self.indexes)\n",
    "\n",
    "    def __len__(self):\n",
    "        return int(np.ceil(len(self.df) / self.batch_size))\n",
    "\n",
    "    def __getitem__(self, index):\n",
    "        batch_indexes = self.indexes[index * self.batch_size:(index + 1) * self.batch_size]\n",
    "        anchor_images, positive_images, negative_images = [], [], []\n",
    "        for i in batch_indexes:\n",
    "            anchor_img = load_and_preprocess_image(os.path.join(self.image_directory, self.df.iloc[i]['anchor']))\n",
    "            pos_img = load_and_preprocess_image(os.path.join(self.image_directory, self.df.iloc[i]['pos']))\n",
    "            neg_img = load_and_preprocess_image(os.path.join(self.image_directory, self.df.iloc[i]['neg']))\n",
    "            anchor_images.append(anchor_img)\n",
    "            positive_images.append(pos_img)\n",
    "            negative_images.append(neg_img)\n",
    "        return [np.array(anchor_images), np.array(positive_images), np.array(negative_images)], np.zeros((len(batch_indexes),))"
   ]
  },
  {
   "cell_type": "markdown",
   "metadata": {
    "id": "odH24wIaji55"
   },
   "source": [
    "## **Create data generator**"
   ]
  },
  {
   "cell_type": "code",
   "execution_count": 9,
   "metadata": {
    "id": "eSutje3-eGIa"
   },
   "outputs": [],
   "source": [
    "# Create data generators for training, validation, and test sets\n",
    "batch_size = 72\n",
    "train_data_generator = TripletDataGenerator(train_df, image_path, batch_size=batch_size)\n",
    "val_data_generator = TripletDataGenerator(val_df, image_path, batch_size=batch_size)\n",
    "test_data_generator = TripletDataGenerator(test_df, image_path, batch_size=batch_size, shuffle=False)"
   ]
  },
  {
   "cell_type": "markdown",
   "metadata": {
    "id": "FMbnnPYRjrvI"
   },
   "source": [
    "## **Define CNN Siamese network model**"
   ]
  },
  {
   "cell_type": "code",
   "execution_count": 10,
   "metadata": {
    "id": "g44KwYNweGLR"
   },
   "outputs": [],
   "source": [
    "# Define the Siamese network model\n",
    "def create_siamese_model(input_shape):\n",
    "    input_layer = layers.Input(shape=input_shape)\n",
    "    x = layers.Conv2D(32, (3, 3), activation='relu')(input_layer)\n",
    "    x = layers.BatchNormalization()(x)\n",
    "    x = layers.MaxPooling2D()(x)\n",
    "    x = layers.Conv2D(64, (3, 3), activation='relu')(x)\n",
    "    x = layers.BatchNormalization()(x)\n",
    "    x = layers.MaxPooling2D()(x)\n",
    "    x = layers.Flatten()(x)\n",
    "    x = layers.Dense(512, activation='relu')(x)\n",
    "    x = layers.Dropout(0.5)(x)\n",
    "    output_layer = layers.Dense(256)(x)\n",
    "    return keras.Model(inputs=input_layer, outputs=output_layer)"
   ]
  },
  {
   "cell_type": "markdown",
   "metadata": {
    "id": "RxbOiHx3kC1I"
   },
   "source": [
    "## **Create Siamese submodels**"
   ]
  },
  {
   "cell_type": "code",
   "execution_count": 11,
   "metadata": {
    "id": "zA8_wYWWeGP9"
   },
   "outputs": [],
   "source": [
    "# Create Siamese submodels\n",
    "input_shape = (118, 118, 3)\n",
    "siamese_model = create_siamese_model(input_shape)\n",
    "input_anchor = layers.Input(shape=input_shape)\n",
    "input_positive = layers.Input(shape=input_shape)\n",
    "input_negative = layers.Input(shape=input_shape)\n",
    "encoded_anchor = siamese_model(input_anchor)\n",
    "encoded_positive = siamese_model(input_positive)\n",
    "encoded_negative = siamese_model(input_negative)"
   ]
  },
  {
   "cell_type": "markdown",
   "metadata": {
    "id": "w9uWjHnpkGKL"
   },
   "source": [
    "# **Define Triplet Loss**"
   ]
  },
  {
   "cell_type": "code",
   "execution_count": 12,
   "metadata": {
    "id": "mtkA5M4neihv"
   },
   "outputs": [],
   "source": [
    "# Define the triplet loss\n",
    "margin = 0.2\n",
    "positive_dist = tf.reduce_sum(tf.square(encoded_anchor - encoded_positive), axis=-1)\n",
    "negative_dist = tf.reduce_sum(tf.square(encoded_anchor - encoded_negative), axis=-1)\n",
    "triplet_loss = tf.maximum(0.0, positive_dist - negative_dist + margin)"
   ]
  },
  {
   "cell_type": "markdown",
   "metadata": {
    "id": "odVQpNTYkOTG"
   },
   "source": [
    "# **Create and compile the Siamese network model**"
   ]
  },
  {
   "cell_type": "code",
   "execution_count": 13,
   "metadata": {
    "id": "2kah61t_eitj"
   },
   "outputs": [],
   "source": [
    "# Create and compile the Siamese network model\n",
    "siamese_net = keras.Model(inputs=[input_anchor, input_positive, input_negative], outputs=triplet_loss)\n",
    "custom_optimizer = keras.optimizers.Adam(learning_rate=0.000001)\n",
    "siamese_net.compile(optimizer=custom_optimizer, loss=lambda y_true, y_pred: y_pred)"
   ]
  },
  {
   "cell_type": "markdown",
   "metadata": {
    "id": "L_1b09vIkRV0"
   },
   "source": [
    "# **Implement callback threshhold**"
   ]
  },
  {
   "cell_type": "code",
   "execution_count": 22,
   "metadata": {
    "id": "Yq44zf60g59-"
   },
   "outputs": [],
   "source": [
    "class LossThresholdCallback(Callback):\n",
    "    def __init__(self, threshold):\n",
    "        super(LossThresholdCallback, self).__init__()\n",
    "        self.threshold = threshold\n",
    "\n",
    "    def on_epoch_end(self, epoch, logs=None):\n",
    "        siamese_net.save(\"D:/Datasets/Image_data/CelebA FR Triplets/images/face_verification_siamese_model.h5\")\n",
    "        if logs is None:\n",
    "            logs = {}\n",
    "\n",
    "        current_loss = logs.get('loss')\n",
    "        if current_loss is not None and current_loss < self.threshold:\n",
    "            print(f\"\\nReached loss threshold of {self.threshold}. Stopping training.\")\n",
    "            self.model.stop_training = True\n",
    "# Train the model as before\n",
    "threshold_callback = LossThresholdCallback(threshold=0.000000001)"
   ]
  },
  {
   "cell_type": "markdown",
   "metadata": {
    "id": "nNWi5WxBkauO"
   },
   "source": [
    "# **Train the model**"
   ]
  },
  {
   "cell_type": "code",
   "execution_count": null,
   "metadata": {
    "colab": {
     "background_save": true,
     "base_uri": "https://localhost:8080/"
    },
    "id": "zntRh8PCei-L",
    "outputId": "28008878-307a-49d1-e90b-d1a7c248763e"
   },
   "outputs": [
    {
     "name": "stdout",
     "output_type": "stream",
     "text": [
      "Epoch 1/100\n",
      "182/182 [==============================] - 1028s 6s/step - loss: 110.2491 - val_loss: 14.5532\n",
      "Epoch 2/100\n",
      "182/182 [==============================] - 840s 5s/step - loss: 59.6193 - val_loss: 17.4606\n",
      "Epoch 3/100\n",
      "182/182 [==============================] - 842s 5s/step - loss: 43.5322 - val_loss: 14.1494\n",
      "Epoch 4/100\n",
      "182/182 [==============================] - 841s 5s/step - loss: 37.0465 - val_loss: 12.2918\n",
      "Epoch 5/100\n",
      "182/182 [==============================] - 840s 5s/step - loss: 32.6453 - val_loss: 11.0410\n",
      "Epoch 6/100\n",
      "182/182 [==============================] - 866s 5s/step - loss: 28.8803 - val_loss: 10.1259\n",
      "Epoch 7/100\n",
      "182/182 [==============================] - 874s 5s/step - loss: 25.6092 - val_loss: 9.1869\n",
      "Epoch 8/100\n",
      "182/182 [==============================] - 850s 5s/step - loss: 22.8828 - val_loss: 8.5861\n",
      "Epoch 9/100\n",
      "182/182 [==============================] - 849s 5s/step - loss: 21.1690 - val_loss: 8.0504\n",
      "Epoch 10/100\n",
      "182/182 [==============================] - 851s 5s/step - loss: 19.1402 - val_loss: 7.6184\n",
      "Epoch 11/100\n",
      "182/182 [==============================] - 862s 5s/step - loss: 17.2982 - val_loss: 7.1138\n",
      "Epoch 12/100\n",
      "182/182 [==============================] - 843s 5s/step - loss: 16.7840 - val_loss: 6.7949\n",
      "Epoch 13/100\n",
      "182/182 [==============================] - 841s 5s/step - loss: 15.1605 - val_loss: 6.4069\n",
      "Epoch 14/100\n",
      "182/182 [==============================] - 838s 5s/step - loss: 14.2401 - val_loss: 6.1217\n",
      "Epoch 15/100\n",
      "182/182 [==============================] - 838s 5s/step - loss: 13.1569 - val_loss: 5.8445\n",
      "Epoch 16/100\n",
      "182/182 [==============================] - 837s 5s/step - loss: 12.3593 - val_loss: 5.5624\n",
      "Epoch 17/100\n",
      "182/182 [==============================] - 835s 5s/step - loss: 11.0243 - val_loss: 5.3639\n",
      "Epoch 18/100\n",
      "182/182 [==============================] - 837s 5s/step - loss: 10.5702 - val_loss: 5.1494\n",
      "Epoch 19/100\n",
      "182/182 [==============================] - 837s 5s/step - loss: 10.0477 - val_loss: 4.9619\n",
      "Epoch 20/100\n",
      "182/182 [==============================] - 836s 5s/step - loss: 9.2419 - val_loss: 4.7263\n",
      "Epoch 21/100\n",
      "182/182 [==============================] - 840s 5s/step - loss: 8.6898 - val_loss: 4.5341\n",
      "Epoch 22/100\n",
      "182/182 [==============================] - 838s 5s/step - loss: 8.0203 - val_loss: 4.3603\n",
      "Epoch 23/100\n",
      "182/182 [==============================] - 835s 5s/step - loss: 7.5915 - val_loss: 4.1946\n",
      "Epoch 24/100\n",
      "182/182 [==============================] - 835s 5s/step - loss: 7.0593 - val_loss: 4.0752\n",
      "Epoch 25/100\n",
      "182/182 [==============================] - 835s 5s/step - loss: 6.5483 - val_loss: 3.9146\n",
      "Epoch 26/100\n",
      "182/182 [==============================] - 838s 5s/step - loss: 6.1746 - val_loss: 3.7652\n",
      "Epoch 27/100\n",
      "182/182 [==============================] - 834s 5s/step - loss: 5.6465 - val_loss: 3.6662\n",
      "Epoch 28/100\n",
      "182/182 [==============================] - 837s 5s/step - loss: 5.3267 - val_loss: 3.5199\n",
      "Epoch 29/100\n",
      "182/182 [==============================] - 835s 5s/step - loss: 4.9188 - val_loss: 3.4323\n",
      "Epoch 30/100\n",
      "182/182 [==============================] - 837s 5s/step - loss: 4.5620 - val_loss: 3.3178\n",
      "Epoch 31/100\n",
      "182/182 [==============================] - 836s 5s/step - loss: 4.2920 - val_loss: 3.1835\n",
      "Epoch 32/100\n",
      "182/182 [==============================] - 835s 5s/step - loss: 3.9456 - val_loss: 3.0702\n",
      "Epoch 33/100\n",
      "182/182 [==============================] - 837s 5s/step - loss: 3.7364 - val_loss: 2.9614\n",
      "Epoch 34/100\n",
      "182/182 [==============================] - 833s 5s/step - loss: 3.3983 - val_loss: 2.8298\n",
      "Epoch 35/100\n",
      "182/182 [==============================] - 836s 5s/step - loss: 3.2025 - val_loss: 2.7693\n",
      "Epoch 36/100\n",
      "182/182 [==============================] - 835s 5s/step - loss: 2.9457 - val_loss: 2.6311\n",
      "Epoch 37/100\n",
      "182/182 [==============================] - 834s 5s/step - loss: 2.6899 - val_loss: 2.5117\n",
      "Epoch 38/100\n",
      "182/182 [==============================] - 836s 5s/step - loss: 2.3789 - val_loss: 2.4109\n",
      "Epoch 39/100\n",
      "182/182 [==============================] - 837s 5s/step - loss: 2.2270 - val_loss: 2.2880\n",
      "Epoch 40/100\n",
      "182/182 [==============================] - 835s 5s/step - loss: 2.0398 - val_loss: 2.1517\n",
      "Epoch 41/100\n",
      "182/182 [==============================] - 837s 5s/step - loss: 1.8216 - val_loss: 2.0305\n",
      "Epoch 42/100\n",
      "182/182 [==============================] - 836s 5s/step - loss: 1.6069 - val_loss: 1.9126\n",
      "Epoch 43/100\n",
      "182/182 [==============================] - 835s 5s/step - loss: 1.4429 - val_loss: 1.7861\n",
      "Epoch 44/100\n",
      "182/182 [==============================] - 838s 5s/step - loss: 1.2313 - val_loss: 1.6556\n",
      "Epoch 45/100\n",
      "182/182 [==============================] - 845s 5s/step - loss: 1.1294 - val_loss: 1.5398\n",
      "Epoch 46/100\n",
      "182/182 [==============================] - 841s 5s/step - loss: 0.9828 - val_loss: 1.4445\n",
      "Epoch 47/100\n",
      "182/182 [==============================] - 841s 5s/step - loss: 0.8298 - val_loss: 1.3381\n",
      "Epoch 48/100\n",
      "182/182 [==============================] - 843s 5s/step - loss: 0.7322 - val_loss: 1.2616\n",
      "Epoch 49/100\n",
      "182/182 [==============================] - 841s 5s/step - loss: 0.6344 - val_loss: 1.1927\n",
      "Epoch 50/100\n",
      "182/182 [==============================] - 840s 5s/step - loss: 0.5556 - val_loss: 1.1392\n",
      "Epoch 51/100\n",
      "182/182 [==============================] - 1170s 6s/step - loss: 0.4835 - val_loss: 1.0674\n",
      "Epoch 52/100\n",
      "182/182 [==============================] - 866s 5s/step - loss: 0.4366 - val_loss: 1.0242\n",
      "Epoch 53/100\n",
      "182/182 [==============================] - 835s 5s/step - loss: 0.3914 - val_loss: 0.9836\n",
      "Epoch 54/100\n",
      "182/182 [==============================] - 835s 5s/step - loss: 0.3514 - val_loss: 0.9449\n",
      "Epoch 55/100\n",
      "182/182 [==============================] - 835s 5s/step - loss: 0.3166 - val_loss: 0.9231\n",
      "Epoch 56/100\n",
      "182/182 [==============================] - 834s 5s/step - loss: 0.2881 - val_loss: 0.9050\n",
      "Epoch 57/100\n",
      "182/182 [==============================] - 842s 5s/step - loss: 0.2699 - val_loss: 0.8819\n",
      "Epoch 58/100\n",
      "182/182 [==============================] - 855s 5s/step - loss: 0.2517 - val_loss: 0.8639\n",
      "Epoch 59/100\n",
      "182/182 [==============================] - 849s 5s/step - loss: 0.2337 - val_loss: 0.8453\n",
      "Epoch 60/100\n",
      "182/182 [==============================] - 834s 5s/step - loss: 0.2174 - val_loss: 0.8398\n",
      "Epoch 61/100\n",
      "182/182 [==============================] - 834s 5s/step - loss: 0.2037 - val_loss: 0.8243\n",
      "Epoch 62/100\n",
      "182/182 [==============================] - 837s 5s/step - loss: 0.1996 - val_loss: 0.8116\n",
      "Epoch 63/100\n",
      "182/182 [==============================] - 835s 5s/step - loss: 0.1921 - val_loss: 0.8032\n",
      "Epoch 64/100\n",
      "182/182 [==============================] - 833s 5s/step - loss: 0.1835 - val_loss: 0.7870\n",
      "Epoch 65/100\n",
      "182/182 [==============================] - 834s 5s/step - loss: 0.1735 - val_loss: 0.7904\n",
      "Epoch 66/100\n",
      "182/182 [==============================] - 833s 5s/step - loss: 0.1670 - val_loss: 0.7812\n",
      "Epoch 67/100\n",
      "182/182 [==============================] - 833s 5s/step - loss: 0.1618 - val_loss: 0.7819\n",
      "Epoch 68/100\n",
      " 18/182 [=>............................] - ETA: 11:44 - loss: 0.1436"
     ]
    }
   ],
   "source": [
    "# Train the Siamese network\n",
    "num_epochs = 100\n",
    "history = siamese_net.fit(\n",
    "    train_data_generator,\n",
    "    validation_data=val_data_generator,\n",
    "    epochs=num_epochs,\n",
    "    callbacks=[threshold_callback]\n",
    ")"
   ]
  },
  {
   "cell_type": "markdown",
   "metadata": {},
   "source": [
    "# summary of the model's architecture"
   ]
  },
  {
   "cell_type": "code",
   "execution_count": 15,
   "metadata": {
    "id": "tkHz90zMejJ8"
   },
   "outputs": [
    {
     "name": "stdout",
     "output_type": "stream",
     "text": [
      "Model: \"model_1\"\n",
      "__________________________________________________________________________________________________\n",
      " Layer (type)                Output Shape                 Param #   Connected to                  \n",
      "==================================================================================================\n",
      " input_2 (InputLayer)        [(None, 118, 118, 3)]        0         []                            \n",
      "                                                                                                  \n",
      " input_3 (InputLayer)        [(None, 118, 118, 3)]        0         []                            \n",
      "                                                                                                  \n",
      " input_4 (InputLayer)        [(None, 118, 118, 3)]        0         []                            \n",
      "                                                                                                  \n",
      " model (Functional)          (None, 256)                  2584172   ['input_2[0][0]',             \n",
      "                                                          8          'input_3[0][0]',             \n",
      "                                                                     'input_4[0][0]']             \n",
      "                                                                                                  \n",
      " tf.math.subtract (TFOpLamb  (None, 256)                  0         ['model[0][0]',               \n",
      " da)                                                                 'model[1][0]']               \n",
      "                                                                                                  \n",
      " tf.math.subtract_1 (TFOpLa  (None, 256)                  0         ['model[0][0]',               \n",
      " mbda)                                                               'model[2][0]']               \n",
      "                                                                                                  \n",
      " tf.math.square (TFOpLambda  (None, 256)                  0         ['tf.math.subtract[0][0]']    \n",
      " )                                                                                                \n",
      "                                                                                                  \n",
      " tf.math.square_1 (TFOpLamb  (None, 256)                  0         ['tf.math.subtract_1[0][0]']  \n",
      " da)                                                                                              \n",
      "                                                                                                  \n",
      " tf.math.reduce_sum (TFOpLa  (None,)                      0         ['tf.math.square[0][0]']      \n",
      " mbda)                                                                                            \n",
      "                                                                                                  \n",
      " tf.math.reduce_sum_1 (TFOp  (None,)                      0         ['tf.math.square_1[0][0]']    \n",
      " Lambda)                                                                                          \n",
      "                                                                                                  \n",
      " tf.math.subtract_2 (TFOpLa  (None,)                      0         ['tf.math.reduce_sum[0][0]',  \n",
      " mbda)                                                               'tf.math.reduce_sum_1[0][0]']\n",
      "                                                                                                  \n",
      " tf.__operators__.add (TFOp  (None,)                      0         ['tf.math.subtract_2[0][0]']  \n",
      " Lambda)                                                                                          \n",
      "                                                                                                  \n",
      " tf.math.maximum (TFOpLambd  (None,)                      0         ['tf.__operators__.add[0][0]']\n",
      " a)                                                                                               \n",
      "                                                                                                  \n",
      "==================================================================================================\n",
      "Total params: 25841728 (98.58 MB)\n",
      "Trainable params: 25841536 (98.58 MB)\n",
      "Non-trainable params: 192 (768.00 Byte)\n",
      "__________________________________________________________________________________________________\n"
     ]
    }
   ],
   "source": [
    "# Print a summary of the model's architecture\n",
    "siamese_net.summary()"
   ]
  },
  {
   "cell_type": "markdown",
   "metadata": {},
   "source": [
    "# Ploting the model"
   ]
  },
  {
   "cell_type": "code",
   "execution_count": 16,
   "metadata": {
    "id": "9OKHsL3sgDVv"
   },
   "outputs": [
    {
     "data": {
      "image/png": "[encoded data removed]",
      "text/plain": [
       "<IPython.core.display.Image object>"
      ]
     },
     "execution_count": 16,
     "metadata": {},
     "output_type": "execute_result"
    }
   ],
   "source": [
    "\n",
    "# Specify the file path where you want to save the plot\n",
    "plot_path = 'siamese_net_plot.png'\n",
    "\n",
    "# Visualize the model architecture and save it to a file\n",
    "plot_model(siamese_net, to_file=plot_path, show_shapes=True, show_layer_names=True)\n",
    "\n",
    "# Display the visualization in Jupyter Notebook (optional)\n",
    "from IPython.display import Image\n",
    "Image(filename='siamese_net_plot.png')\n"
   ]
  },
  {
   "cell_type": "markdown",
   "metadata": {},
   "source": [
    "# Plot training & validation loss values"
   ]
  },
  {
   "cell_type": "code",
   "execution_count": 21,
   "metadata": {
    "id": "idxpacEugDZP"
   },
   "outputs": [
    {
     "data": {
      "image/png": "[encoded data removed]",
      "text/plain": [
       "<Figure size 640x480 with 1 Axes>"
      ]
     },
     "metadata": {},
     "output_type": "display_data"
    }
   ],
   "source": [
    "# Plot training & validation loss values\n",
    "plt.plot(history.history['loss'])\n",
    "plt.plot(history.history['val_loss'])\n",
    "plt.title('Model loss')\n",
    "plt.ylabel('Loss')\n",
    "plt.xlabel('Epoch')\n",
    "plt.legend(['Train', 'Validation'], loc='upper right')\n",
    "plt.show()"
   ]
  },
  {
   "cell_type": "markdown",
   "metadata": {
    "id": "e_j7F39pgDdQ"
   },
   "source": [
    "# Save the model"
   ]
  },
  {
   "cell_type": "code",
   "execution_count": null,
   "metadata": {
    "id": "UhBJz72L1hSF"
   },
   "outputs": [],
   "source": [
    "modelfilepath = r\"D:/Datasets/Image_data/CelebA FR Triplets/images/\"\n",
    "siamese_net.save(\"D:/Datasets/Image_data/CelebA FR Triplets/images/face_verification_siamese_model.h5\")\n",
    "tf.keras.models.save_model(\n",
    "    siamese_net,\n",
    "    modelfilepath,\n",
    "    overwrite=True,\n",
    "    include_optimizer=True,\n",
    "    save_format=None,\n",
    "    signatures=None,\n",
    "    options=None\n",
    ")"
   ]
  }
 ],
 "metadata": {
  "accelerator": "TPU",
  "colab": {
   "provenance": []
  },
  "kernelspec": {
   "display_name": "Python 3 (ipykernel)",
   "language": "python",
   "name": "python3"
  },
  "language_info": {
   "codemirror_mode": {
    "name": "ipython",
    "version": 3
   },
   "file_extension": ".py",
   "mimetype": "text/x-python",
   "name": "python",
   "nbconvert_exporter": "python",
   "pygments_lexer": "ipython3",
   "version": "3.9.13"
  }
 },
 "nbformat": 4,
 "nbformat_minor": 1
}
